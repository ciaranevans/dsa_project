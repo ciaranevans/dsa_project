{
 "cells": [
  {
   "cell_type": "markdown",
   "metadata": {},
   "source": [
    "# Import everything"
   ]
  },
  {
   "cell_type": "code",
   "execution_count": 1,
   "metadata": {},
   "outputs": [
    {
     "name": "stderr",
     "output_type": "stream",
     "text": [
      "Using TensorFlow backend.\n"
     ]
    }
   ],
   "source": [
    "import os\n",
    "import skimage.io as io\n",
    "import skimage.transform as trans\n",
    "import random\n",
    "import h5py\n",
    "import re\n",
    "import matplotlib\n",
    "import rasterio\n",
    "import numpy as np\n",
    "from rasterio.plot import show, show_hist\n",
    "from rasterio.merge import merge as rastermerge\n",
    "from matplotlib import pyplot\n",
    "%matplotlib inline\n",
    "from keras import metrics\n",
    "from keras import backend as K\n",
    "from keras.initializers import *\n",
    "from keras.layers import *\n",
    "from keras.models import *\n",
    "from keras.optimizers import *\n",
    "from keras.callbacks import ModelCheckpoint, LearningRateScheduler\n",
    "from importlib import reload\n",
    "from keras.callbacks import EarlyStopping, TensorBoard\n",
    "from keras.models import load_model\n",
    "from keras.models import save_model"
   ]
  },
  {
   "cell_type": "markdown",
   "metadata": {},
   "source": [
    "# Set locations"
   ]
  },
  {
   "cell_type": "code",
   "execution_count": 2,
   "metadata": {},
   "outputs": [],
   "source": [
    "PREDICTIONS_DIR = \"/Users/ciaran/data/imagery/tifs/blue_anchor/predictions\"\n",
    "IMAGES_TO_PREDICT_DIR = \"/Users/ciaran/data/imagery/tifs/blue_anchor/train/normalised_images\""
   ]
  },
  {
   "cell_type": "markdown",
   "metadata": {},
   "source": [
    "# Load model"
   ]
  },
  {
   "cell_type": "code",
   "execution_count": 3,
   "metadata": {},
   "outputs": [],
   "source": [
    "model = load_model('/Users/ciaran/dev/dsa_project/models/1e-5_subset_2/model')"
   ]
  },
  {
   "cell_type": "markdown",
   "metadata": {},
   "source": [
    "# Figure out all cells that have been predicted already"
   ]
  },
  {
   "cell_type": "code",
   "execution_count": 4,
   "metadata": {},
   "outputs": [],
   "source": [
    "predictedImages = [file for file in os.listdir(PREDICTIONS_DIR)]"
   ]
  },
  {
   "cell_type": "markdown",
   "metadata": {},
   "source": [
    "# Predict remaining cells"
   ]
  },
  {
   "cell_type": "code",
   "execution_count": null,
   "metadata": {},
   "outputs": [],
   "source": [
    "for file in os.listdir(IMAGES_TO_PREDICT_DIR):\n",
    "            if file.endswith(\".tif\") and file not in predictedImages:\n",
    "                imageToPredict = rasterio.open(os.path.join(IMAGES_TO_PREDICT_DIR, file)).read()\n",
    "                imageToPredict = np.moveaxis(imageToPredict, 0, -1)\n",
    "                imageToPredict = np.array([imageToPredict])\n",
    "                prediction = model.predict(imageToPredict)[0]\n",
    "                metadata = rasterio.open(os.path.join(IMAGES_TO_PREDICT_DIR, file)).meta\n",
    "                metadata['count'] = 1\n",
    "                metadata['dtype'] = 'float32'\n",
    "                prediction = np.moveaxis(prediction, -1, 0)\n",
    "                with rasterio.open(os.path.join(PREDICTIONS_DIR, file), \"w\", **metadata) as dest:\n",
    "                    dest.write(prediction)"
   ]
  }
 ],
 "metadata": {
  "kernelspec": {
   "display_name": "Python 3",
   "language": "python",
   "name": "python3"
  },
  "language_info": {
   "codemirror_mode": {
    "name": "ipython",
    "version": 3
   },
   "file_extension": ".py",
   "mimetype": "text/x-python",
   "name": "python",
   "nbconvert_exporter": "python",
   "pygments_lexer": "ipython3",
   "version": "3.6.6"
  }
 },
 "nbformat": 4,
 "nbformat_minor": 2
}
