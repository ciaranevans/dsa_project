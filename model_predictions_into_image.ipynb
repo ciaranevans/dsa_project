{
 "cells": [
  {
   "cell_type": "code",
   "execution_count": null,
   "metadata": {},
   "outputs": [],
   "source": [
    "import os\n",
    "import skimage.io as io\n",
    "import skimage.transform as trans\n",
    "import random\n",
    "import h5py\n",
    "import re\n",
    "import matplotlib\n",
    "import rasterio\n",
    "import numpy as np\n",
    "from rasterio.plot import show, show_hist\n",
    "from rasterio.merge import merge as rastermerge\n",
    "from matplotlib import pyplot\n",
    "%matplotlib inline\n",
    "from keras import metrics\n",
    "from keras import backend as K\n",
    "from keras.initializers import *\n",
    "from keras.layers import *\n",
    "from keras.models import *\n",
    "from keras.optimizers import *\n",
    "from keras.callbacks import ModelCheckpoint, LearningRateScheduler\n",
    "from importlib import reload\n",
    "from keras.callbacks import EarlyStopping, TensorBoard\n",
    "from keras.models import load_model\n",
    "from keras.models import save_model"
   ]
  },
  {
   "cell_type": "code",
   "execution_count": null,
   "metadata": {},
   "outputs": [],
   "source": [
    "PREDICTIONS_DIR = \"/Users/ciaran/data/imagery/tifs/blue_anchor/predictions\"\n",
    "#IMAGES_TO_PREDICT_DIR = \"/Users/ciaran/data/imagery/tifs/blue_anchor/train/normalised_images\"\n",
    "IMAGES_TO_PREDICT_DIR = \"/Users/ciaran/data/imagery/tifs/blue_anchor/test_pred\""
   ]
  },
  {
   "cell_type": "code",
   "execution_count": null,
   "metadata": {},
   "outputs": [],
   "source": [
    "def sorensen_dice_coef(y_true, y_pred):\n",
    "    y_true_f = K.flatten(y_true)\n",
    "    y_pred_f = K.flatten(y_pred)\n",
    "    intersection = K.sum(y_true_f * y_pred_f)\n",
    "    coef = (2. * intersection + K.epsilon()) / (K.sum(y_true_f) + K.sum(y_pred_f) + K.epsilon())\n",
    "    return coef\n",
    "\n",
    "def sorensen_dice_coef_loss(y_true, y_pred):\n",
    "    return 1 - sorensen_dice_coef(y_true, y_pred)"
   ]
  },
  {
   "cell_type": "code",
   "execution_count": null,
   "metadata": {},
   "outputs": [],
   "source": [
    "MODEL = load_model('/Users/ciaran/dev/dsa_project/models/1e-5_subset_2/model')"
   ]
  },
  {
   "cell_type": "markdown",
   "metadata": {},
   "source": [
    "# Make Predictions and Rasterize"
   ]
  },
  {
   "cell_type": "code",
   "execution_count": null,
   "metadata": {},
   "outputs": [],
   "source": [
    "predictedImages = [file for file in os.listdir(PREDICTIONS_DIR)]"
   ]
  },
  {
   "cell_type": "code",
   "execution_count": null,
   "metadata": {},
   "outputs": [],
   "source": [
    "def updateImageMetadata(metadata):\n",
    "    meta = metadata[0]\n",
    "    meta.update({\"driver\":\"GTiff\",\n",
    "                 \"height\": metadata[1][0],\n",
    "                 \"width\": metadata[1][1],\n",
    "                 \"transform\": metadata[3],\n",
    "                 \"crs\": metadata[2],\n",
    "                 \"count\": 1,\n",
    "                 \"dtype\": 'float32'})\n",
    "    return meta\n",
    "\n",
    "def writePredictionAsGeoTIFF(prediction, imageToPredictMetadata, file):\n",
    "    print(imageToPredictMetadata)\n",
    "    updatedImageMetadata = updateImageMetadata(imageToPredictMetadata)\n",
    "    print(updatedImageMetadata)\n",
    "    with rasterio.open(os.path.join(PREDICTIONS_DIR, file), \"w\", **updatedImageMetadata) as dest:\n",
    "                    dest.write(prediction[0][:])\n",
    "\n",
    "def predictImage(image):\n",
    "    prediction = MODEL.predict(x=np.array([image]))\n",
    "    return prediction\n",
    "\n",
    "def getImageToPredictsMetadata(path):\n",
    "    image = rasterio.open(path)\n",
    "    return [image.meta, image.shape, image.crs, image.transform]\n",
    "\n",
    "def getImageToPredict(path):\n",
    "    return io.imread(path)\n",
    "\n",
    "def predictAndWriteResultOfFolderImages(path):\n",
    "    for file in os.listdir(path):\n",
    "            if file.endswith(\".tif\") and file not in predictedImages:\n",
    "                imageToPredict = getImageToPredict(os.path.join(path, file))\n",
    "                imageToPredictMetadata = getImageToPredictsMetadata(os.path.join(path, file))\n",
    "                prediction = predictImage(imageToPredict)\n",
    "                print(prediction.shape)\n",
    "                writePredictionAsGeoTIFF(prediction, imageToPredictMetadata, file)\n",
    "                show(prediction)\n",
    "                imageToPredict = None\n",
    "                imageToPredictMetadata = None\n",
    "                prediction = None\n",
    "                print(\"Processed: \" + file)"
   ]
  },
  {
   "cell_type": "code",
   "execution_count": null,
   "metadata": {},
   "outputs": [],
   "source": [
    "predictAndWriteResultOfFolderImages(IMAGES_TO_PREDICT_DIR)"
   ]
  },
  {
   "cell_type": "markdown",
   "metadata": {},
   "source": [
    "# Merge images"
   ]
  },
  {
   "cell_type": "code",
   "execution_count": null,
   "metadata": {},
   "outputs": [],
   "source": [
    "def generateBeachFromCells(pathToBeachImages, nameOfBeach):\n",
    "    imagesToMerge = getAllImagesToMerge(pathToBeachImages)\n",
    "    mergedImage, mergedImageTransform = rastermerge(imagesToMerge)\n",
    "    metadata = imagesToMerge[0].meta.copy()\n",
    "    crs = imagesToMerge[0].crs\n",
    "    writeImageAsGeoTIFF(mergedImage, mergedImageTransform, metadata, crs, nameOfBeach)\n",
    "\n",
    "def getAllImagesToMerge(pathToBeachImages):\n",
    "    return [rasterio.open(os.path.join(pathToBeachImages, image)) for image in os.listdir(pathToBeachImages)]\n",
    "\n",
    "def writeImageAsGeoTIFF(img, transform, metadata, crs, filename):\n",
    "    metadata.update({\"driver\":\"GTiff\",\n",
    "                     \"height\":img.shape[1],\n",
    "                     \"width\":img.shape[2],\n",
    "                     \"transform\": transform,\n",
    "                     \"crs\": crs,\n",
    "                     \"nodata\": 0})\n",
    "    with rasterio.open(filename+\".tif\", \"w\", **metadata) as dest:\n",
    "        dest.write(img)"
   ]
  },
  {
   "cell_type": "code",
   "execution_count": null,
   "metadata": {},
   "outputs": [],
   "source": [
    "generateBeachFromCells(\"/Users/ciaran/data/imagery/tifs/blue_anchor/predictions\", \"mosaic\")"
   ]
  }
 ],
 "metadata": {
  "kernelspec": {
   "display_name": "Python 3",
   "language": "python",
   "name": "python3"
  },
  "language_info": {
   "codemirror_mode": {
    "name": "ipython",
    "version": 3
   },
   "file_extension": ".py",
   "mimetype": "text/x-python",
   "name": "python",
   "nbconvert_exporter": "python",
   "pygments_lexer": "ipython3",
   "version": "3.6.3"
  }
 },
 "nbformat": 4,
 "nbformat_minor": 2
}
