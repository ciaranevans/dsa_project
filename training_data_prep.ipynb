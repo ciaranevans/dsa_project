{
 "cells": [
  {
   "cell_type": "code",
   "execution_count": 2,
   "metadata": {},
   "outputs": [],
   "source": [
    "import rasterio\n",
    "import os\n",
    "import numpy\n",
    "import fiona\n",
    "from shapely import geometry\n",
    "from rasterio.mask import mask\n",
    "from rasterio.merge import merge\n",
    "from rasterio.plot import show, show_hist\n",
    "from rasterio import features\n",
    "import matplotlib\n",
    "%matplotlib inline"
   ]
  },
  {
   "cell_type": "code",
   "execution_count": null,
   "metadata": {},
   "outputs": [],
   "source": [
    "BEACH_AERIAL_PATH = \"/Users/ciaran/data/imagery/cco/seaton/cco_data-20190107184417/data/aerial\"\n",
    "BEACH_GENERATED_GEOTIFF_PATH_WITHOUT_EXT = \"/Users/ciaran/data/imagery/tifs/seaton/seaton_2012\"\n",
    "BEACH_GENERATED_GEOTIFF_PATH = BEACH_GENERATED_GEOTIFF_PATH_WITHOUT_EXT + \".tif\"\n",
    "BEACH_CELL_PATH_WITHOUT_EXT = \"/Users/ciaran/data/imagery/tifs/seaton/train/images/seaton_\"\n",
    "BEACH_CELL_LABELS_PATH_WITHOUT_EXT = \"/Users/ciaran/data/imagery/tifs/blue_anchor/train/labels/blue_anchor_\"\n",
    "BEACH_ALL_CELLS_PATH = \"/Users/ciaran/data/imagery/tifs/blue_anchor/cells/*\"\n",
    "NO_DATA_SHAPEFILE_PATH = \"/Users/ciaran/data/shapefiles/blue_anchor/no_data.shp\"\n",
    "ROCK_SHAPEFILE_PATH = \"/Users/ciaran/data/shapefiles/blue_anchor/rock.shp\"\n",
    "SAND_SHAPEFILE_PATH = \"/Users/ciaran/data/shapefiles/blue_anchor/sand.shp\"\n",
    "PEBBLE_SHAPEFILE_PATH = \"/Users/ciaran/data/shapefiles/blue_anchor/pebble.shp\"\n",
    "PEBBLE_2_SHAPEFILE_PATH = \"/Users/ciaran/data/shapefiles/blue_anchor/pebble_2.shp\"\n",
    "RASTERISED_ROCK_PATH = \"/Users/ciaran/data/imagery/tifs/blue_anchor/rock.tif\"\n",
    "RASTERISED_SAND_PATH = \"/Users/ciaran/data/imagery/tifs/blue_anchor/sand.tif\"\n",
    "RASTERISED_PEBBLE_PATH = \"/Users/ciaran/data/imagery/tifs/blue_anchor/pebble.tif\"\n",
    "RASTERISED_PEBBLE_2_PATH = \"/Users/ciaran/data/imagery/tifs/blue_anchor/pebble_2.tif\"\n",
    "RASTERISED_NO_DATA_PATH = \"/Users/ciaran/data/imagery/tifs/blue_anchor/no_data.tif\"\n",
    "MERGED_LABELS_PATH = \"/Users/ciaran/data/imagery/tifs/blue_anchor/merged_labels.tif\"\n",
    "BLUE_ANCHOR_LABELLED_PATH = \"/Users/ciaran/data/imagery/tifs/blue_anchor/blue_anchor_2013_labels.tif\"\n",
    "NO_DATA_VALUE=115\n",
    "ROCK_VALUE = 100\n",
    "SAND_VALUE = 105\n",
    "PEBBLE_VALUE = 110"
   ]
  },
  {
   "cell_type": "markdown",
   "metadata": {},
   "source": [
    "# Generating one big GeoTIFF from multiple aerial images of a beach"
   ]
  },
  {
   "cell_type": "code",
   "execution_count": 2,
   "metadata": {},
   "outputs": [],
   "source": [
    "def generateBeachFromCells(pathToBeachImages, nameOfBeach):\n",
    "    imagesToMerge = getAllImagesToMerge(pathToBeachImages)\n",
    "    mergedImage, mergedImageTransform = merge(imagesToMerge)\n",
    "    metadata = imagesToMerge[0].meta.copy()\n",
    "    crs = imagesToMerge[0].crs\n",
    "    writeImageAsGeoTIFF(mergedImage, mergedImageTransform, metadata, crs, nameOfBeach)\n",
    "\n",
    "def getAllImagesToMerge(pathToBeachImages):\n",
    "    return [rasterio.open(os.path.join(pathToBeachImages, image)) for image in os.listdir(pathToBeachImages)]\n",
    "\n",
    "def writeImageAsGeoTIFF(img, transform, metadata, crs, filename):\n",
    "    metadata.update({\"driver\":\"GTiff\",\n",
    "                     \"height\":img.shape[1],\n",
    "                     \"width\":img.shape[2],\n",
    "                     \"transform\": transform,\n",
    "                     \"crs\": crs})\n",
    "    with rasterio.open(filename+\".tif\", \"w\", **metadata) as dest:\n",
    "        dest.write(img)"
   ]
  },
  {
   "cell_type": "code",
   "execution_count": null,
   "metadata": {},
   "outputs": [],
   "source": [
    "generateBeachFromCells(BEACH_AERIAL_PATH, BEACH_GENERATED_GEOTIFF_PATH_WITHOUT_EXT)"
   ]
  },
  {
   "cell_type": "markdown",
   "metadata": {},
   "source": [
    "# Open beach GeoTIFF in QGIS"
   ]
  },
  {
   "cell_type": "code",
   "execution_count": null,
   "metadata": {},
   "outputs": [],
   "source": [
    "os.system(\"open -a qgis \" + BEACH_GENERATED_GEOTIFF_PATH)"
   ]
  },
  {
   "cell_type": "markdown",
   "metadata": {},
   "source": [
    "# Generate training data cells of squareDim * squareDim size"
   ]
  },
  {
   "cell_type": "code",
   "execution_count": 29,
   "metadata": {},
   "outputs": [],
   "source": [
    "def splitImageIntoCells(img, filename, squareDim):\n",
    "    numberOfCellsWide = img.shape[1] // squareDim\n",
    "    numberOfCellsHigh = img.shape[0] // squareDim\n",
    "    x, y = 0, 0\n",
    "    count = 0\n",
    "    for hc in range(numberOfCellsHigh):\n",
    "        y = hc * squareDim\n",
    "        for wc in range(numberOfCellsWide):\n",
    "            x = wc * squareDim\n",
    "            geom = getTileGeom(img.transform, x, y, squareDim)\n",
    "            getCellFromGeom(img, geom, filename, count)\n",
    "            count = count + 1\n",
    "            \n",
    "def getTileGeom(transform, x, y, squareDim):\n",
    "    corner1 = (x, y) * transform\n",
    "    corner2 = (x + squareDim, y + squareDim) * transform\n",
    "    return geometry.box(corner1[0], corner1[1],\n",
    "                        corner2[0], corner2[1])\n",
    "    \n",
    "def getCellFromGeom(img, geom, filename, count):\n",
    "    crop, cropTransform = mask(img, [geom], crop=True)\n",
    "    writeImageAsGeoTIFF(crop,\n",
    "                        cropTransform,\n",
    "                        img.meta,\n",
    "                        img.crs,\n",
    "                        filename+str(count))"
   ]
  },
  {
   "cell_type": "code",
   "execution_count": null,
   "metadata": {},
   "outputs": [],
   "source": [
    "blue_anchor = rasterio.open(BEACH_GENERATED_GEOTIFF_PATH)"
   ]
  },
  {
   "cell_type": "code",
   "execution_count": null,
   "metadata": {},
   "outputs": [],
   "source": [
    "blue_anchor_labelled = rasterio.open(BLUE_ANCHOR_LABELLED_PATH)"
   ]
  },
  {
   "cell_type": "code",
   "execution_count": 30,
   "metadata": {},
   "outputs": [],
   "source": [
    "sand_raster = rasterio.open(\"/Users/ciaran/data/imagery/tifs/blue_anchor/only_sand.tif\")"
   ]
  },
  {
   "cell_type": "code",
   "execution_count": 31,
   "metadata": {},
   "outputs": [],
   "source": [
    "splitImageIntoCells(sand_raster, \"/Users/ciaran/data/imagery/tifs/blue_anchor/train/labels/sand/blue_anchor_\", 256)"
   ]
  },
  {
   "cell_type": "markdown",
   "metadata": {},
   "source": [
    "# Open all cells in QGIS (CAREFUL - This could be 1000s!)"
   ]
  },
  {
   "cell_type": "code",
   "execution_count": null,
   "metadata": {},
   "outputs": [],
   "source": [
    "os.system(\"open -a qgis \" + BEACH_ALL_CELLS_PATH)"
   ]
  },
  {
   "cell_type": "markdown",
   "metadata": {},
   "source": [
    "# Rasterise shapefile for training labels"
   ]
  },
  {
   "cell_type": "code",
   "execution_count": null,
   "metadata": {},
   "outputs": [],
   "source": [
    "def getRasterisedShapefile(shapefilePath, baseCRS, baseMeta, baseShape, baseTransform, value):\n",
    "    shapefile = fiona.open(shapefilePath)\n",
    "    geometries = [shape['geometry'] for shape in shapefile if shape['geometry'] is not None]\n",
    "    rasterisedShp = features.rasterize(geometries, out_shape=baseShape, transform=baseTransform, default_value=value)\n",
    "    baseMeta.update({\"driver\":\"GTiff\",\n",
    "                     \"height\":baseShape[0],\n",
    "                     \"width\":baseShape[1],\n",
    "                     \"transform\": baseTransform,\n",
    "                     \"crs\": baseCRS,\n",
    "                     \"count\": 1,\n",
    "                     \"nodata\": 0})\n",
    "    return (rasterisedShp, baseMeta)\n",
    "    \n",
    "def writeRasterisedShapefile(rasterisedShp, meta, filename):\n",
    "    with rasterio.open(filename, \"w\", **meta) as dest:\n",
    "        dest.write(rasterisedShp, 1)\n",
    "        \n",
    "def rasteriseShapefileAndWriteToGeoTIFF(shapefileToRasterisePath, crs, meta, shape, transform, value, outPath):\n",
    "    rasterisedShp, rasterisedShpMeta = getRasterisedShapefile(shapefileToRasterisePath,\n",
    "                                                              crs, \n",
    "                                                              meta,\n",
    "                                                              shape,\n",
    "                                                              transform,\n",
    "                                                              value)\n",
    "    writeRasterisedShapefile(rasterisedShp,\n",
    "                             rasterisedShpMeta,\n",
    "                             outPath)"
   ]
  },
  {
   "cell_type": "code",
   "execution_count": null,
   "metadata": {},
   "outputs": [],
   "source": [
    "rasteriseShapefileAndWriteToGeoTIFF(NO_DATA_SHAPEFILE_PATH,\n",
    "                                    blue_anchor.crs,\n",
    "                                    blue_anchor.meta,\n",
    "                                    blue_anchor.shape,\n",
    "                                    blue_anchor.transform,\n",
    "                                    NO_DATA_VALUE,\n",
    "                                    RASTERISED_NO_DATA_PATH)"
   ]
  },
  {
   "cell_type": "code",
   "execution_count": null,
   "metadata": {},
   "outputs": [],
   "source": [
    "rasteriseShapefileAndWriteToGeoTIFF(ROCK_SHAPEFILE_PATH,\n",
    "                                    blue_anchor.crs,\n",
    "                                    blue_anchor.meta,\n",
    "                                    blue_anchor.shape,\n",
    "                                    blue_anchor.transform,\n",
    "                                    ROCK_VALUE,\n",
    "                                    RASTERISED_ROCK_PATH)"
   ]
  },
  {
   "cell_type": "code",
   "execution_count": null,
   "metadata": {},
   "outputs": [],
   "source": [
    "rasteriseShapefileAndWriteToGeoTIFF(PEBBLE_SHAPEFILE_PATH,\n",
    "                                    blue_anchor.crs,\n",
    "                                    blue_anchor.meta,\n",
    "                                    blue_anchor.shape,\n",
    "                                    blue_anchor.transform,\n",
    "                                    PEBBLE_VALUE,\n",
    "                                    RASTERISED_PEBBLE_PATH)\n",
    "rasteriseShapefileAndWriteToGeoTIFF(PEBBLE_2_SHAPEFILE_PATH,\n",
    "                                    blue_anchor.crs,\n",
    "                                    blue_anchor.meta,\n",
    "                                    blue_anchor.shape,\n",
    "                                    blue_anchor.transform,\n",
    "                                    PEBBLE_VALUE,\n",
    "                                    RASTERISED_PEBBLE_2_PATH)"
   ]
  },
  {
   "cell_type": "code",
   "execution_count": null,
   "metadata": {},
   "outputs": [],
   "source": [
    "rasteriseShapefileAndWriteToGeoTIFF(SAND_SHAPEFILE_PATH,\n",
    "                                    blue_anchor.crs,\n",
    "                                    blue_anchor.meta,\n",
    "                                    blue_anchor.shape,\n",
    "                                    blue_anchor.transform,\n",
    "                                    SAND_VALUE,\n",
    "                                    RASTERISED_SAND_PATH)"
   ]
  },
  {
   "cell_type": "markdown",
   "metadata": {},
   "source": [
    "# Open training labels in QGIS"
   ]
  },
  {
   "cell_type": "code",
   "execution_count": null,
   "metadata": {},
   "outputs": [],
   "source": [
    "os.system(\"open -a qgis \" + RASTERISED_ROCK_PATH)\n",
    "os.system(\"open -a qgis \" + RASTERISED_SAND_PATH)\n",
    "#os.system(\"open -a qgis \" + RASTERISED_PEBBLE_PATH)"
   ]
  },
  {
   "cell_type": "markdown",
   "metadata": {},
   "source": [
    "# Merge labels into one raster"
   ]
  },
  {
   "cell_type": "code",
   "execution_count": null,
   "metadata": {},
   "outputs": [],
   "source": [
    "baseMeta = blue_anchor.meta\n",
    "baseShape = blue_anchor.shape\n",
    "baseCRS = blue_anchor.crs\n",
    "baseTransform = blue_anchor.transform\n",
    "baseMeta.update({\"driver\":\"GTiff\",\n",
    "                 \"height\":baseShape[0],\n",
    "                 \"width\":baseShape[1],\n",
    "                 \"transform\": baseTransform,\n",
    "                 \"crs\": baseCRS,\n",
    "                 \"count\": 1,\n",
    "                 \"nodata\": 0})\n",
    "\n",
    "rock = rasterio.open(RASTERISED_ROCK_PATH)\n",
    "sand = rasterio.open(RASTERISED_SAND_PATH)\n",
    "pebble = rasterio.open(RASTERISED_PEBBLE_PATH)\n",
    "pebble_2 = rasterio.open(RASTERISED_PEBBLE_2_PATH)\n",
    "no_data = rasterio.open(RASTERISED_NO_DATA_PATH)\n",
    "\n",
    "merged_labels, _ = merge([pebble, sand, pebble_2], nodata=0)\n",
    "#out, trans = merge((rock, sand, pebble), nodata=0)"
   ]
  },
  {
   "cell_type": "code",
   "execution_count": null,
   "metadata": {},
   "outputs": [],
   "source": [
    "with rasterio.open(MERGED_LABELS_PATH, \"w\", **baseMeta) as dest:\n",
    "        dest.write(merged_labels)"
   ]
  },
  {
   "cell_type": "code",
   "execution_count": null,
   "metadata": {},
   "outputs": [],
   "source": [
    "merged_without_mask_or_rock = rasterio.open(MERGED_LABELS_PATH)\n",
    "shapefile = fiona.open(NO_DATA_SHAPEFILE_PATH)\n",
    "geometries = [shape['geometry'] for shape in shapefile if shape['geometry'] is not None]\n",
    "masked, _ = mask(merged_without_mask_or_rock, geometries, all_touched=True, invert=True)"
   ]
  },
  {
   "cell_type": "code",
   "execution_count": null,
   "metadata": {},
   "outputs": [],
   "source": [
    "with rasterio.open(\"/Users/ciaran/data/imagery/tifs/blue_anchor/without_rock.tif\", \"w\", **baseMeta) as dest:\n",
    "        dest.write(masked)"
   ]
  },
  {
   "cell_type": "code",
   "execution_count": null,
   "metadata": {},
   "outputs": [],
   "source": [
    "without_rock = rasterio.open(\"/Users/ciaran/data/imagery/tifs/blue_anchor/without_rock.tif\")\n",
    "with_rock_array, _ = merge([rock, without_rock], nodata=0)\n",
    "with rasterio.open(\"/Users/ciaran/data/imagery/tifs/blue_anchor/with_rock.tif\", \"w\", **baseMeta) as dest:\n",
    "        dest.write(with_rock_array)"
   ]
  },
  {
   "cell_type": "markdown",
   "metadata": {},
   "source": [
    "# Open merged labels in QGIS"
   ]
  },
  {
   "cell_type": "code",
   "execution_count": null,
   "metadata": {},
   "outputs": [],
   "source": [
    "os.system(\"open -a qgis \" + MERGED_LABELS_PATH)"
   ]
  },
  {
   "cell_type": "markdown",
   "metadata": {},
   "source": [
    "# Extract Binary Sand || !Sand"
   ]
  },
  {
   "cell_type": "code",
   "execution_count": null,
   "metadata": {},
   "outputs": [],
   "source": [
    "labelled_raster = rasterio.open(\"/Users/ciaran/data/imagery/tifs/blue_anchor/blue_anchor_2013_labels.tif\")\n",
    "not_sand_mask = labelled_raster.read() == 105\n",
    "not_sand_mask = not_sand_mask.astype(numpy.uint8)"
   ]
  },
  {
   "cell_type": "code",
   "execution_count": null,
   "metadata": {},
   "outputs": [],
   "source": [
    "baseMeta = labelled_raster.meta\n",
    "baseShape = labelled_raster.shape\n",
    "baseCRS = labelled_raster.crs\n",
    "baseTransform = labelled_raster.transform\n",
    "baseMeta.update({\"driver\":\"GTiff\",\n",
    "                 \"height\":baseShape[0],\n",
    "                 \"width\":baseShape[1],\n",
    "                 \"transform\": baseTransform,\n",
    "                 \"crs\": baseCRS,\n",
    "                 \"count\": 1,\n",
    "                 \"nodata\": 0})\n",
    "with rasterio.open(\"/Users/ciaran/data/imagery/tifs/blue_anchor/only_sand.tif\", \"w\", **baseMeta) as dest:\n",
    "        dest.write(not_sand_mask)"
   ]
  },
  {
   "cell_type": "markdown",
   "metadata": {},
   "source": [
    "# Normalise"
   ]
  },
  {
   "cell_type": "code",
   "execution_count": 3,
   "metadata": {},
   "outputs": [],
   "source": [
    "for file in os.listdir(\"/Users/ciaran/data/imagery/tifs/blue_anchor/train/images\"):\n",
    "            if file.endswith(\".tif\"):\n",
    "                image = rasterio.open(os.path.join(\"/Users/ciaran/data/imagery/tifs/blue_anchor/train/images\", file))\n",
    "                normalized_image = image.read()/255\n",
    "                baseMeta = image.meta\n",
    "                baseShape = image.shape\n",
    "                baseCRS = image.crs\n",
    "                baseTransform = image.transform\n",
    "                baseMeta.update({\"driver\":\"GTiff\",\n",
    "                                 \"height\":baseShape[0],\n",
    "                                 \"width\":baseShape[1],\n",
    "                                 \"transform\": baseTransform,\n",
    "                                 \"crs\": baseCRS,\n",
    "                                 \"dtype\": 'float64'})\n",
    "                with rasterio.open(os.path.join(\"/Users/ciaran/data/imagery/tifs/blue_anchor/train/normalised_images\", file), \"w\", **baseMeta) as dest:\n",
    "                    dest.write(normalized_image)\n",
    "                image = None\n",
    "                normalized_image = None"
   ]
  }
 ],
 "metadata": {
  "kernelspec": {
   "display_name": "Python 3",
   "language": "python",
   "name": "python3"
  },
  "language_info": {
   "codemirror_mode": {
    "name": "ipython",
    "version": 3
   },
   "file_extension": ".py",
   "mimetype": "text/x-python",
   "name": "python",
   "nbconvert_exporter": "python",
   "pygments_lexer": "ipython3",
   "version": "3.6.3"
  }
 },
 "nbformat": 4,
 "nbformat_minor": 2
}
