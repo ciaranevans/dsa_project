{
 "cells": [
  {
   "cell_type": "code",
   "execution_count": 1,
   "metadata": {},
   "outputs": [
    {
     "name": "stderr",
     "output_type": "stream",
     "text": [
      "Using TensorFlow backend.\n"
     ]
    }
   ],
   "source": [
    "import os\n",
    "import skimage.io as io\n",
    "import skimage.transform as trans\n",
    "import random\n",
    "from keras import metrics\n",
    "from keras import backend as K\n",
    "from keras.initializers import *\n",
    "from keras.layers import *\n",
    "from keras.models import *\n",
    "from keras.models import load_model\n",
    "from keras.optimizers import *\n",
    "from keras.losses import binary_crossentropy\n",
    "from keras.metrics import binary_crossentropy as bc_met\n",
    "from keras.callbacks import ModelCheckpoint, LearningRateScheduler"
   ]
  },
  {
   "cell_type": "code",
   "execution_count": 2,
   "metadata": {},
   "outputs": [],
   "source": [
    "random.seed('beachclassification')\n",
    "model_initializer = glorot_uniform\n",
    "kernel_init = model_initializer(seed=random.randint(0,5))\n",
    "model_learning_rate = 0.00001"
   ]
  },
  {
   "cell_type": "code",
   "execution_count": 3,
   "metadata": {},
   "outputs": [],
   "source": [
    "def sorensen_dice_coef(y_true, y_pred):\n",
    "    y_true_f = K.flatten(y_true)\n",
    "    y_pred_f = K.flatten(y_pred)\n",
    "    intersection = K.sum(y_true_f * y_pred_f)\n",
    "    coef = (2. * intersection + K.epsilon()) / (K.sum(y_true_f) + K.sum(y_pred_f) + K.epsilon())\n",
    "    return coef\n",
    "\n",
    "def sorensen_dice_coef_loss(y_true, y_pred):\n",
    "    return 1 - sorensen_dice_coef(y_true, y_pred)"
   ]
  },
  {
   "cell_type": "code",
   "execution_count": null,
   "metadata": {},
   "outputs": [],
   "source": [
    "def generateUnet():\n",
    "    inputs = Input(shape=(256,256,4))\n",
    "    conv1 = Conv2D(64, (3,3), activation='relu', padding='same', kernel_initializer=kernel_init)(inputs)\n",
    "    conv1 = Conv2D(64, (3,3), activation='relu', padding='same', kernel_initializer=kernel_init)(conv1)\n",
    "    pool1 = MaxPooling2D(pool_size=(2,2))(conv1)\n",
    "    \n",
    "    conv2 = Conv2D(128, (3,3), activation='relu', padding='same', kernel_initializer=kernel_init)(pool1)\n",
    "    conv2 = Conv2D(128, (3,3), activation='relu', padding='same', kernel_initializer=kernel_init)(conv2)\n",
    "    pool2 = MaxPooling2D(pool_size=(2,2))(conv2)\n",
    "    \n",
    "    conv3 = Conv2D(256, (3,3), activation='relu', padding='same', kernel_initializer=kernel_init)(pool2)\n",
    "    conv3 = Conv2D(256, (3,3), activation='relu', padding='same', kernel_initializer=kernel_init)(conv3)\n",
    "    pool3 = MaxPooling2D(pool_size=(2,2))(conv3)\n",
    "    \n",
    "    conv4 = Conv2D(512, (3,3), activation='relu', padding='same', kernel_initializer=kernel_init)(pool3)\n",
    "    conv4 = Conv2D(512, (3,3), activation='relu', padding='same', kernel_initializer=kernel_init)(conv4)\n",
    "    drop4 = Dropout(0.01)(conv4)\n",
    "    pool4 = MaxPooling2D(pool_size=(2,2))(drop4)\n",
    "    \n",
    "    conv5 = Conv2D(1024, (3,3), activation='relu', padding='same', kernel_initializer=kernel_init)(pool4)\n",
    "    conv5 = Conv2D(1024, (3,3), activation='relu', padding='same', kernel_initializer=kernel_init)(conv5)\n",
    "    drop5 = Dropout(0.01)(conv5)\n",
    "    \n",
    "    up6 = concatenate([Conv2DTranspose(512, (2,2), strides=(2,2), padding='same', kernel_initializer=kernel_init)(drop5), drop4], axis=3)\n",
    "    conv6 = Conv2D(512, (3,3), activation='relu', padding='same', kernel_initializer=kernel_init)(up6)\n",
    "    conv6 = Conv2D(512, (3,3), activation='relu', padding='same', kernel_initializer=kernel_init)(conv6)\n",
    "    \n",
    "    up7 = concatenate([Conv2DTranspose(256, (2,2), strides=(2,2), padding='same', kernel_initializer=kernel_init)(conv6), conv3], axis=3)\n",
    "    conv7 = Conv2D(256, (3,3), activation='relu', padding='same', kernel_initializer=kernel_init)(up7)\n",
    "    conv7 = Conv2D(256, (3,3), activation='relu', padding='same', kernel_initializer=kernel_init)(conv7)\n",
    "    \n",
    "    up8 = concatenate([Conv2DTranspose(128, (2,2), strides=(2,2), padding='same', kernel_initializer=kernel_init)(conv7), conv2], axis=3)\n",
    "    conv8 = Conv2D(128, (3,3), activation='relu', padding='same', kernel_initializer=kernel_init)(up8)\n",
    "    conv8 = Conv2D(128, (3,3), activation='relu', padding='same', kernel_initializer=kernel_init)(conv8)\n",
    "    \n",
    "    up9 = concatenate([Conv2DTranspose(64, (2,2), strides=(2,2), padding='same', kernel_initializer=kernel_init)(conv8), conv1], axis=3)\n",
    "    conv9 = Conv2D(64, (3,3), activation='relu', padding='same', kernel_initializer=kernel_init)(up9)\n",
    "    conv9 = Conv2D(64, (3,3), activation='relu', padding='same', kernel_initializer=kernel_init)(conv9)\n",
    "    conv9 = Conv2D(2, (3,3), activation='relu', padding='same', kernel_initializer=kernel_init)(conv9)\n",
    "    \n",
    "    conv10 = Conv2D(1, (1,1), activation='sigmoid')(conv9)\n",
    "    \n",
    "    model = Model(inputs=inputs, outputs=conv10)\n",
    "    \n",
    "    model.compile(optimizer=Adam(lr=model_learning_rate), loss=binary_crossentropy, metrics=[bc_met])\n",
    "    \n",
    "    return model"
   ]
  },
  {
   "cell_type": "code",
   "execution_count": 5,
   "metadata": {},
   "outputs": [],
   "source": [
    "def generateRealUnet():\n",
    "    inputs = Input(shape=(256,256,4))\n",
    "    conv1 = Conv2D(64, 3, activation = 'relu', padding = 'same', kernel_initializer = 'he_normal')(inputs)\n",
    "    conv1 = Conv2D(64, 3, activation = 'relu', padding = 'same', kernel_initializer = 'he_normal')(conv1)\n",
    "    pool1 = MaxPooling2D(pool_size=(2, 2))(conv1)\n",
    "    conv2 = Conv2D(128, 3, activation = 'relu', padding = 'same', kernel_initializer = 'he_normal')(pool1)\n",
    "    conv2 = Conv2D(128, 3, activation = 'relu', padding = 'same', kernel_initializer = 'he_normal')(conv2)\n",
    "    pool2 = MaxPooling2D(pool_size=(2, 2))(conv2)\n",
    "    conv3 = Conv2D(256, 3, activation = 'relu', padding = 'same', kernel_initializer = 'he_normal')(pool2)\n",
    "    conv3 = Conv2D(256, 3, activation = 'relu', padding = 'same', kernel_initializer = 'he_normal')(conv3)\n",
    "    pool3 = MaxPooling2D(pool_size=(2, 2))(conv3)\n",
    "    conv4 = Conv2D(512, 3, activation = 'relu', padding = 'same', kernel_initializer = 'he_normal')(pool3)\n",
    "    conv4 = Conv2D(512, 3, activation = 'relu', padding = 'same', kernel_initializer = 'he_normal')(conv4)\n",
    "    drop4 = Dropout(0.5)(conv4)\n",
    "    pool4 = MaxPooling2D(pool_size=(2, 2))(drop4)\n",
    "\n",
    "    conv5 = Conv2D(1024, 3, activation = 'relu', padding = 'same', kernel_initializer = 'he_normal')(pool4)\n",
    "    conv5 = Conv2D(1024, 3, activation = 'relu', padding = 'same', kernel_initializer = 'he_normal')(conv5)\n",
    "    drop5 = Dropout(0.5)(conv5)\n",
    "\n",
    "    up6 = Conv2D(512, 2, activation = 'relu', padding = 'same', kernel_initializer = 'he_normal')(UpSampling2D(size = (2,2))(drop5))\n",
    "    merge6 = concatenate([drop4,up6], axis = 3)\n",
    "    conv6 = Conv2D(512, 3, activation = 'relu', padding = 'same', kernel_initializer = 'he_normal')(merge6)\n",
    "    conv6 = Conv2D(512, 3, activation = 'relu', padding = 'same', kernel_initializer = 'he_normal')(conv6)\n",
    "\n",
    "    up7 = Conv2D(256, 2, activation = 'relu', padding = 'same', kernel_initializer = 'he_normal')(UpSampling2D(size = (2,2))(conv6))\n",
    "    merge7 = concatenate([conv3,up7], axis = 3)\n",
    "    conv7 = Conv2D(256, 3, activation = 'relu', padding = 'same', kernel_initializer = 'he_normal')(merge7)\n",
    "    conv7 = Conv2D(256, 3, activation = 'relu', padding = 'same', kernel_initializer = 'he_normal')(conv7)\n",
    "\n",
    "    up8 = Conv2D(128, 2, activation = 'relu', padding = 'same', kernel_initializer = 'he_normal')(UpSampling2D(size = (2,2))(conv7))\n",
    "    merge8 = concatenate([conv2,up8], axis = 3)\n",
    "    conv8 = Conv2D(128, 3, activation = 'relu', padding = 'same', kernel_initializer = 'he_normal')(merge8)\n",
    "    conv8 = Conv2D(128, 3, activation = 'relu', padding = 'same', kernel_initializer = 'he_normal')(conv8)\n",
    "\n",
    "    up9 = Conv2D(64, 2, activation = 'relu', padding = 'same', kernel_initializer = 'he_normal')(UpSampling2D(size = (2,2))(conv8))\n",
    "    merge9 = concatenate([conv1,up9], axis = 3)\n",
    "    conv9 = Conv2D(64, 3, activation = 'relu', padding = 'same', kernel_initializer = 'he_normal')(merge9)\n",
    "    conv9 = Conv2D(64, 3, activation = 'relu', padding = 'same', kernel_initializer = 'he_normal')(conv9)\n",
    "    conv9 = Conv2D(2, 3, activation = 'relu', padding = 'same', kernel_initializer = 'he_normal')(conv9)\n",
    "    conv10 = Conv2D(1, 1, activation = 'sigmoid')(conv9)\n",
    "\n",
    "    model = Model(inputs=inputs,outputs=conv10)\n",
    "\n",
    "    model.compile(optimizer = Adam(lr = model_learning_rate), loss = 'binary_crossentropy', metrics = ['accuracy'])\n",
    "    \n",
    "    return model"
   ]
  },
  {
   "cell_type": "code",
   "execution_count": 6,
   "metadata": {},
   "outputs": [],
   "source": [
    "model = generateRealUnet()"
   ]
  },
  {
   "cell_type": "code",
   "execution_count": 2,
   "metadata": {},
   "outputs": [
    {
     "data": {
      "text/plain": [
       "'channels_last'"
      ]
     },
     "execution_count": 2,
     "metadata": {},
     "output_type": "execute_result"
    }
   ],
   "source": [
    "K.image_data_format()"
   ]
  },
  {
   "cell_type": "code",
   "execution_count": 8,
   "metadata": {},
   "outputs": [
    {
     "name": "stdout",
     "output_type": "stream",
     "text": [
      "__________________________________________________________________________________________________\n",
      "Layer (type)                    Output Shape         Param #     Connected to                     \n",
      "==================================================================================================\n",
      "input_1 (InputLayer)            (None, 256, 256, 4)  0                                            \n",
      "__________________________________________________________________________________________________\n",
      "conv2d_1 (Conv2D)               (None, 256, 256, 64) 2368        input_1[0][0]                    \n",
      "__________________________________________________________________________________________________\n",
      "conv2d_2 (Conv2D)               (None, 256, 256, 64) 36928       conv2d_1[0][0]                   \n",
      "__________________________________________________________________________________________________\n",
      "max_pooling2d_1 (MaxPooling2D)  (None, 128, 128, 64) 0           conv2d_2[0][0]                   \n",
      "__________________________________________________________________________________________________\n",
      "conv2d_3 (Conv2D)               (None, 128, 128, 128 73856       max_pooling2d_1[0][0]            \n",
      "__________________________________________________________________________________________________\n",
      "conv2d_4 (Conv2D)               (None, 128, 128, 128 147584      conv2d_3[0][0]                   \n",
      "__________________________________________________________________________________________________\n",
      "max_pooling2d_2 (MaxPooling2D)  (None, 64, 64, 128)  0           conv2d_4[0][0]                   \n",
      "__________________________________________________________________________________________________\n",
      "conv2d_5 (Conv2D)               (None, 64, 64, 256)  295168      max_pooling2d_2[0][0]            \n",
      "__________________________________________________________________________________________________\n",
      "conv2d_6 (Conv2D)               (None, 64, 64, 256)  590080      conv2d_5[0][0]                   \n",
      "__________________________________________________________________________________________________\n",
      "max_pooling2d_3 (MaxPooling2D)  (None, 32, 32, 256)  0           conv2d_6[0][0]                   \n",
      "__________________________________________________________________________________________________\n",
      "conv2d_7 (Conv2D)               (None, 32, 32, 512)  1180160     max_pooling2d_3[0][0]            \n",
      "__________________________________________________________________________________________________\n",
      "conv2d_8 (Conv2D)               (None, 32, 32, 512)  2359808     conv2d_7[0][0]                   \n",
      "__________________________________________________________________________________________________\n",
      "dropout_1 (Dropout)             (None, 32, 32, 512)  0           conv2d_8[0][0]                   \n",
      "__________________________________________________________________________________________________\n",
      "max_pooling2d_4 (MaxPooling2D)  (None, 16, 16, 512)  0           dropout_1[0][0]                  \n",
      "__________________________________________________________________________________________________\n",
      "conv2d_9 (Conv2D)               (None, 16, 16, 1024) 4719616     max_pooling2d_4[0][0]            \n",
      "__________________________________________________________________________________________________\n",
      "conv2d_10 (Conv2D)              (None, 16, 16, 1024) 9438208     conv2d_9[0][0]                   \n",
      "__________________________________________________________________________________________________\n",
      "dropout_2 (Dropout)             (None, 16, 16, 1024) 0           conv2d_10[0][0]                  \n",
      "__________________________________________________________________________________________________\n",
      "up_sampling2d_1 (UpSampling2D)  (None, 32, 32, 1024) 0           dropout_2[0][0]                  \n",
      "__________________________________________________________________________________________________\n",
      "conv2d_11 (Conv2D)              (None, 32, 32, 512)  2097664     up_sampling2d_1[0][0]            \n",
      "__________________________________________________________________________________________________\n",
      "concatenate_1 (Concatenate)     (None, 32, 32, 1024) 0           dropout_1[0][0]                  \n",
      "                                                                 conv2d_11[0][0]                  \n",
      "__________________________________________________________________________________________________\n",
      "conv2d_12 (Conv2D)              (None, 32, 32, 512)  4719104     concatenate_1[0][0]              \n",
      "__________________________________________________________________________________________________\n",
      "conv2d_13 (Conv2D)              (None, 32, 32, 512)  2359808     conv2d_12[0][0]                  \n",
      "__________________________________________________________________________________________________\n",
      "up_sampling2d_2 (UpSampling2D)  (None, 64, 64, 512)  0           conv2d_13[0][0]                  \n",
      "__________________________________________________________________________________________________\n",
      "conv2d_14 (Conv2D)              (None, 64, 64, 256)  524544      up_sampling2d_2[0][0]            \n",
      "__________________________________________________________________________________________________\n",
      "concatenate_2 (Concatenate)     (None, 64, 64, 512)  0           conv2d_6[0][0]                   \n",
      "                                                                 conv2d_14[0][0]                  \n",
      "__________________________________________________________________________________________________\n",
      "conv2d_15 (Conv2D)              (None, 64, 64, 256)  1179904     concatenate_2[0][0]              \n",
      "__________________________________________________________________________________________________\n",
      "conv2d_16 (Conv2D)              (None, 64, 64, 256)  590080      conv2d_15[0][0]                  \n",
      "__________________________________________________________________________________________________\n",
      "up_sampling2d_3 (UpSampling2D)  (None, 128, 128, 256 0           conv2d_16[0][0]                  \n",
      "__________________________________________________________________________________________________\n",
      "conv2d_17 (Conv2D)              (None, 128, 128, 128 131200      up_sampling2d_3[0][0]            \n",
      "__________________________________________________________________________________________________\n",
      "concatenate_3 (Concatenate)     (None, 128, 128, 256 0           conv2d_4[0][0]                   \n",
      "                                                                 conv2d_17[0][0]                  \n",
      "__________________________________________________________________________________________________\n",
      "conv2d_18 (Conv2D)              (None, 128, 128, 128 295040      concatenate_3[0][0]              \n",
      "__________________________________________________________________________________________________\n",
      "conv2d_19 (Conv2D)              (None, 128, 128, 128 147584      conv2d_18[0][0]                  \n",
      "__________________________________________________________________________________________________\n",
      "up_sampling2d_4 (UpSampling2D)  (None, 256, 256, 128 0           conv2d_19[0][0]                  \n",
      "__________________________________________________________________________________________________\n",
      "conv2d_20 (Conv2D)              (None, 256, 256, 64) 32832       up_sampling2d_4[0][0]            \n",
      "__________________________________________________________________________________________________\n",
      "concatenate_4 (Concatenate)     (None, 256, 256, 128 0           conv2d_2[0][0]                   \n",
      "                                                                 conv2d_20[0][0]                  \n",
      "__________________________________________________________________________________________________\n",
      "conv2d_21 (Conv2D)              (None, 256, 256, 64) 73792       concatenate_4[0][0]              \n",
      "__________________________________________________________________________________________________\n",
      "conv2d_22 (Conv2D)              (None, 256, 256, 64) 36928       conv2d_21[0][0]                  \n",
      "__________________________________________________________________________________________________\n",
      "conv2d_23 (Conv2D)              (None, 256, 256, 2)  1154        conv2d_22[0][0]                  \n",
      "__________________________________________________________________________________________________\n",
      "conv2d_24 (Conv2D)              (None, 256, 256, 1)  3           conv2d_23[0][0]                  \n",
      "==================================================================================================\n",
      "Total params: 31,033,413\n",
      "Trainable params: 31,033,413\n",
      "Non-trainable params: 0\n",
      "__________________________________________________________________________________________________\n"
     ]
    }
   ],
   "source": [
    "model.summary()"
   ]
  },
  {
   "cell_type": "code",
   "execution_count": null,
   "metadata": {},
   "outputs": [],
   "source": [
    "#class ImageData():\n",
    "    \n",
    "    #def __init__(self, image_dir, label_dir):\n",
    "        #self.image = []\n",
    "        #self.label = []\n",
    "        #for file in os.listdir(image_dir):\n",
    "            #if file.endswith(\".tif\"):\n",
    "                #self.image.append(io.imread(os.path.join(image_dir, file)))\n",
    "        #for file in os.listdir(label_dir):\n",
    "        #    if file.endswith(\".tif\"):\n",
    "        #        self.label.append(io.imread(os.path.join(label_dir, file)))\n",
    "    \n",
    "    #def getAllImages(self):\n",
    "        #return np.array(self.image)\n",
    "    \n",
    "    #def getAllLabels(self):\n",
    "        #return np.array(self.label)"
   ]
  },
  {
   "cell_type": "code",
   "execution_count": 3,
   "metadata": {},
   "outputs": [],
   "source": [
    "def getImageryInRange(range_of_ids):\n",
    "    images = []\n",
    "    for val in range(range_of_ids[0], range_of_ids[1]):\n",
    "        path = \"/home/paperspace/ciaran/data/train_normalised/blue_anchor_\" + str(val) + \".tif\"\n",
    "        images.append(io.imread(path))\n",
    "    return np.array(images)\n",
    "def getLabelsInRange(range_of_ids):\n",
    "    labels = []\n",
    "    for val in range(range_of_ids[0], range_of_ids[1]):\n",
    "        path = \"/home/paperspace/ciaran/data/label/blue_anchor_\" + str(val) + \".tif\"\n",
    "        labels.append(np.expand_dims(io.imread(path), axis=2))\n",
    "    return np.array(labels)"
   ]
  },
  {
   "cell_type": "code",
   "execution_count": 4,
   "metadata": {},
   "outputs": [],
   "source": [
    "training_images = getImageryInRange((0, 3000))\n",
    "training_labels = getLabelsInRange((0, 3000))"
   ]
  },
  {
   "cell_type": "code",
   "execution_count": null,
   "metadata": {},
   "outputs": [],
   "source": [
    "#images = ImageData(\"/home/paperspace/ciaran/data/train_normalised/\",\n",
    "#                   \"/home/paperspace/ciaran/data/label/\")\n",
    "#all_images = images.getAllImages()\n",
    "#training_images = all_images[((40 * len(all_images))//100):((60 * len(all_images))//100)]\n",
    "#all_labels = images.getAllLabels()\n",
    "#training_labels = all_labels[((40 * len(all_labels))//100):((60 * len(all_labels))//100)]"
   ]
  },
  {
   "cell_type": "code",
   "execution_count": 5,
   "metadata": {},
   "outputs": [],
   "source": [
    "import h5py\n",
    "import re\n",
    "from importlib import reload\n",
    "from keras.callbacks import EarlyStopping, TensorBoard\n",
    "from keras.models import load_model\n",
    "from keras.models import save_model"
   ]
  },
  {
   "cell_type": "code",
   "execution_count": 15,
   "metadata": {},
   "outputs": [
    {
     "name": "stdout",
     "output_type": "stream",
     "text": [
      "(256, 256, 4)\n",
      "(256, 256, 1)\n"
     ]
    }
   ],
   "source": [
    "print(training_images[0].shape)\n",
    "print(training_labels[0].shape)"
   ]
  },
  {
   "cell_type": "code",
   "execution_count": null,
   "metadata": {
    "scrolled": true
   },
   "outputs": [
    {
     "name": "stdout",
     "output_type": "stream",
     "text": [
      "Train on 2400 samples, validate on 600 samples\n",
      "Epoch 1/30\n",
      "2400/2400 [==============================] - 174s 72ms/step - loss: 0.6537 - acc: 0.9817 - val_loss: 0.6556 - val_acc: 0.9320\n",
      "Epoch 2/30\n",
      "2400/2400 [==============================] - 168s 70ms/step - loss: 0.6504 - acc: 0.9842 - val_loss: 0.6547 - val_acc: 0.9320\n",
      "Epoch 3/30\n",
      "2400/2400 [==============================] - 168s 70ms/step - loss: 0.6495 - acc: 0.9842 - val_loss: 0.6539 - val_acc: 0.9320\n",
      "Epoch 4/30\n",
      "2400/2400 [==============================] - 168s 70ms/step - loss: 0.6487 - acc: 0.9842 - val_loss: 0.6532 - val_acc: 0.9320\n",
      "Epoch 5/30\n",
      "2400/2400 [==============================] - 168s 70ms/step - loss: 0.6478 - acc: 0.9842 - val_loss: 0.6525 - val_acc: 0.9320\n",
      "Epoch 6/30\n",
      "2400/2400 [==============================] - 168s 70ms/step - loss: 0.6470 - acc: 0.9842 - val_loss: 0.6518 - val_acc: 0.9320\n",
      "Epoch 7/30\n",
      "2384/2400 [============================>.] - ETA: 1s - loss: 0.6462 - acc: 0.9841"
     ]
    }
   ],
   "source": [
    "t_board = TensorBoard(log_dir=\"./models/1e-5/logs\", histogram_freq=0, write_grads=False, write_graph=True, write_images=False)\n",
    "stop_early = EarlyStopping(patience=30)\n",
    "model.fit(training_images, training_labels, validation_split=0.2, epochs=30, batch_size=16, shuffle=True, callbacks=[stop_early, t_board])\n",
    "model.save(\"./models/1e-5/model\")"
   ]
  },
  {
   "cell_type": "code",
   "execution_count": 6,
   "metadata": {},
   "outputs": [],
   "source": [
    "model = load_model('./models/1e-5/model')"
   ]
  }
 ],
 "metadata": {
  "kernelspec": {
   "display_name": "Python 3",
   "language": "python",
   "name": "python3"
  },
  "language_info": {
   "codemirror_mode": {
    "name": "ipython",
    "version": 3
   },
   "file_extension": ".py",
   "mimetype": "text/x-python",
   "name": "python",
   "nbconvert_exporter": "python",
   "pygments_lexer": "ipython3",
   "version": "3.6.3"
  }
 },
 "nbformat": 4,
 "nbformat_minor": 2
}
