{
 "cells": [
  {
   "cell_type": "code",
   "execution_count": 2,
   "metadata": {},
   "outputs": [
    {
     "name": "stderr",
     "output_type": "stream",
     "text": [
      "Using TensorFlow backend.\n"
     ]
    }
   ],
   "source": [
    "import os\n",
    "import skimage.io as io\n",
    "import skimage.transform as trans\n",
    "import random\n",
    "from keras import metrics\n",
    "from keras import backend as K\n",
    "from keras.initializers import *\n",
    "from keras.layers import *\n",
    "from keras.models import *\n",
    "from keras.optimizers import *\n",
    "from keras.callbacks import ModelCheckpoint, LearningRateScheduler"
   ]
  },
  {
   "cell_type": "code",
   "execution_count": 3,
   "metadata": {},
   "outputs": [],
   "source": [
    "random.seed('beachclassification')\n",
    "model_initializer = glorot_uniform\n",
    "kernel_init = model_initializer(seed=random.randint(0,5))\n",
    "model_learning_rate = 1e-3"
   ]
  },
  {
   "cell_type": "code",
   "execution_count": 4,
   "metadata": {},
   "outputs": [],
   "source": [
    "def sorensen_dice_coef(y_true, y_pred):\n",
    "    y_true_f = K.flatten(y_true)\n",
    "    y_pred_f = K.flatten(y_pred)\n",
    "    intersection = K.sum(y_true_f * y_pred_f)\n",
    "    coef = (2. * intersection + K.epsilon()) / (K.sum(y_true_f) + K.sum(y_pred_f) + K.epsilon())\n",
    "    return coef\n",
    "\n",
    "def sorensen_dice_coef_loss(y_true, y_pred):\n",
    "    return 1 - sorensen_dice_coef(y_true, y_pred)"
   ]
  },
  {
   "cell_type": "code",
   "execution_count": 5,
   "metadata": {},
   "outputs": [],
   "source": [
    "def generateUnet():\n",
    "    inputs = Input(shape=(256,256,4))\n",
    "    conv1 = Conv2D(64, (3,3), activation='relu', padding='same', kernel_initializer=kernel_init)(inputs)\n",
    "    conv1 = Conv2D(64, (3,3), activation='relu', padding='same', kernel_initializer=kernel_init)(conv1)\n",
    "    pool1 = MaxPooling2D(pool_size=(2,2))(conv1)\n",
    "    \n",
    "    conv2 = Conv2D(128, (3,3), activation='relu', padding='same', kernel_initializer=kernel_init)(pool1)\n",
    "    conv2 = Conv2D(128, (3,3), activation='relu', padding='same', kernel_initializer=kernel_init)(conv2)\n",
    "    pool2 = MaxPooling2D(pool_size=(2,2))(conv2)\n",
    "    \n",
    "    conv3 = Conv2D(256, (3,3), activation='relu', padding='same', kernel_initializer=kernel_init)(pool2)\n",
    "    conv3 = Conv2D(256, (3,3), activation='relu', padding='same', kernel_initializer=kernel_init)(conv3)\n",
    "    pool3 = MaxPooling2D(pool_size=(2,2))(conv3)\n",
    "    \n",
    "    conv4 = Conv2D(512, (3,3), activation='relu', padding='same', kernel_initializer=kernel_init)(pool3)\n",
    "    conv4 = Conv2D(512, (3,3), activation='relu', padding='same', kernel_initializer=kernel_init)(conv4)\n",
    "    drop4 = Dropout(0.01)(conv4)\n",
    "    pool4 = MaxPooling2D(pool_size=(2,2))(drop4)\n",
    "    \n",
    "    conv5 = Conv2D(1024, (3,3), activation='relu', padding='same', kernel_initializer=kernel_init)(pool4)\n",
    "    conv5 = Conv2D(1024, (3,3), activation='relu', padding='same', kernel_initializer=kernel_init)(conv5)\n",
    "    drop5 = Dropout(0.01)(conv5)\n",
    "    \n",
    "    up6 = concatenate([Conv2DTranspose(512, (2,2), strides=(2,2), padding='same', kernel_initializer=kernel_init)(drop5), drop4], axis=3)\n",
    "    conv6 = Conv2D(512, (3,3), activation='relu', padding='same', kernel_initializer=kernel_init)(up6)\n",
    "    conv6 = Conv2D(512, (3,3), activation='relu', padding='same', kernel_initializer=kernel_init)(conv6)\n",
    "    \n",
    "    up7 = concatenate([Conv2DTranspose(256, (2,2), strides=(2,2), padding='same', kernel_initializer=kernel_init)(conv6), conv3], axis=3)\n",
    "    conv7 = Conv2D(256, (3,3), activation='relu', padding='same', kernel_initializer=kernel_init)(up7)\n",
    "    conv7 = Conv2D(256, (3,3), activation='relu', padding='same', kernel_initializer=kernel_init)(conv7)\n",
    "    \n",
    "    up8 = concatenate([Conv2DTranspose(128, (2,2), strides=(2,2), padding='same', kernel_initializer=kernel_init)(conv7), conv2], axis=3)\n",
    "    conv8 = Conv2D(128, (3,3), activation='relu', padding='same', kernel_initializer=kernel_init)(up8)\n",
    "    conv8 = Conv2D(128, (3,3), activation='relu', padding='same', kernel_initializer=kernel_init)(conv8)\n",
    "    \n",
    "    up9 = concatenate([Conv2DTranspose(64, (2,2), strides=(2,2), padding='same', kernel_initializer=kernel_init)(conv8), conv1], axis=3)\n",
    "    conv9 = Conv2D(64, (3,3), activation='relu', padding='same', kernel_initializer=kernel_init)(up9)\n",
    "    conv9 = Conv2D(64, (3,3), activation='relu', padding='same', kernel_initializer=kernel_init)(conv9)\n",
    "    conv9 = Conv2D(2, (3,3), activation='relu', padding='same', kernel_initializer=kernel_init)(conv9)\n",
    "    \n",
    "    conv10 = Conv2D(1, (1,1), activation='softmax')(conv9)\n",
    "    \n",
    "    model = Model(inputs=[inputs], outputs=[conv10])\n",
    "    \n",
    "    model.compile(optimizer=Adam(lr=model_learning_rate), loss=sorensen_dice_coef_loss, metrics=[sorensen_dice_coef])\n",
    "    \n",
    "    return model"
   ]
  },
  {
   "cell_type": "code",
   "execution_count": 6,
   "metadata": {},
   "outputs": [],
   "source": [
    "model = generateUnet()"
   ]
  },
  {
   "cell_type": "code",
   "execution_count": 7,
   "metadata": {},
   "outputs": [
    {
     "data": {
      "text/plain": [
       "'channels_last'"
      ]
     },
     "execution_count": 7,
     "metadata": {},
     "output_type": "execute_result"
    }
   ],
   "source": [
    "K.image_data_format()"
   ]
  },
  {
   "cell_type": "code",
   "execution_count": 8,
   "metadata": {},
   "outputs": [
    {
     "name": "stdout",
     "output_type": "stream",
     "text": [
      "__________________________________________________________________________________________________\n",
      "Layer (type)                    Output Shape         Param #     Connected to                     \n",
      "==================================================================================================\n",
      "input_1 (InputLayer)            (None, 256, 256, 4)  0                                            \n",
      "__________________________________________________________________________________________________\n",
      "conv2d_1 (Conv2D)               (None, 256, 256, 64) 2368        input_1[0][0]                    \n",
      "__________________________________________________________________________________________________\n",
      "conv2d_2 (Conv2D)               (None, 256, 256, 64) 36928       conv2d_1[0][0]                   \n",
      "__________________________________________________________________________________________________\n",
      "max_pooling2d_1 (MaxPooling2D)  (None, 128, 128, 64) 0           conv2d_2[0][0]                   \n",
      "__________________________________________________________________________________________________\n",
      "conv2d_3 (Conv2D)               (None, 128, 128, 128 73856       max_pooling2d_1[0][0]            \n",
      "__________________________________________________________________________________________________\n",
      "conv2d_4 (Conv2D)               (None, 128, 128, 128 147584      conv2d_3[0][0]                   \n",
      "__________________________________________________________________________________________________\n",
      "max_pooling2d_2 (MaxPooling2D)  (None, 64, 64, 128)  0           conv2d_4[0][0]                   \n",
      "__________________________________________________________________________________________________\n",
      "conv2d_5 (Conv2D)               (None, 64, 64, 256)  295168      max_pooling2d_2[0][0]            \n",
      "__________________________________________________________________________________________________\n",
      "conv2d_6 (Conv2D)               (None, 64, 64, 256)  590080      conv2d_5[0][0]                   \n",
      "__________________________________________________________________________________________________\n",
      "max_pooling2d_3 (MaxPooling2D)  (None, 32, 32, 256)  0           conv2d_6[0][0]                   \n",
      "__________________________________________________________________________________________________\n",
      "conv2d_7 (Conv2D)               (None, 32, 32, 512)  1180160     max_pooling2d_3[0][0]            \n",
      "__________________________________________________________________________________________________\n",
      "conv2d_8 (Conv2D)               (None, 32, 32, 512)  2359808     conv2d_7[0][0]                   \n",
      "__________________________________________________________________________________________________\n",
      "dropout_1 (Dropout)             (None, 32, 32, 512)  0           conv2d_8[0][0]                   \n",
      "__________________________________________________________________________________________________\n",
      "max_pooling2d_4 (MaxPooling2D)  (None, 16, 16, 512)  0           dropout_1[0][0]                  \n",
      "__________________________________________________________________________________________________\n",
      "conv2d_9 (Conv2D)               (None, 16, 16, 1024) 4719616     max_pooling2d_4[0][0]            \n",
      "__________________________________________________________________________________________________\n",
      "conv2d_10 (Conv2D)              (None, 16, 16, 1024) 9438208     conv2d_9[0][0]                   \n",
      "__________________________________________________________________________________________________\n",
      "dropout_2 (Dropout)             (None, 16, 16, 1024) 0           conv2d_10[0][0]                  \n",
      "__________________________________________________________________________________________________\n",
      "conv2d_transpose_1 (Conv2DTrans (None, 32, 32, 512)  2097664     dropout_2[0][0]                  \n",
      "__________________________________________________________________________________________________\n",
      "concatenate_1 (Concatenate)     (None, 32, 32, 1024) 0           conv2d_transpose_1[0][0]         \n",
      "                                                                 dropout_1[0][0]                  \n",
      "__________________________________________________________________________________________________\n",
      "conv2d_11 (Conv2D)              (None, 32, 32, 512)  4719104     concatenate_1[0][0]              \n",
      "__________________________________________________________________________________________________\n",
      "conv2d_12 (Conv2D)              (None, 32, 32, 512)  2359808     conv2d_11[0][0]                  \n",
      "__________________________________________________________________________________________________\n",
      "conv2d_transpose_2 (Conv2DTrans (None, 64, 64, 256)  524544      conv2d_12[0][0]                  \n",
      "__________________________________________________________________________________________________\n",
      "concatenate_2 (Concatenate)     (None, 64, 64, 512)  0           conv2d_transpose_2[0][0]         \n",
      "                                                                 conv2d_6[0][0]                   \n",
      "__________________________________________________________________________________________________\n",
      "conv2d_13 (Conv2D)              (None, 64, 64, 256)  1179904     concatenate_2[0][0]              \n",
      "__________________________________________________________________________________________________\n",
      "conv2d_14 (Conv2D)              (None, 64, 64, 256)  590080      conv2d_13[0][0]                  \n",
      "__________________________________________________________________________________________________\n",
      "conv2d_transpose_3 (Conv2DTrans (None, 128, 128, 128 131200      conv2d_14[0][0]                  \n",
      "__________________________________________________________________________________________________\n",
      "concatenate_3 (Concatenate)     (None, 128, 128, 256 0           conv2d_transpose_3[0][0]         \n",
      "                                                                 conv2d_4[0][0]                   \n",
      "__________________________________________________________________________________________________\n",
      "conv2d_15 (Conv2D)              (None, 128, 128, 128 295040      concatenate_3[0][0]              \n",
      "__________________________________________________________________________________________________\n",
      "conv2d_16 (Conv2D)              (None, 128, 128, 128 147584      conv2d_15[0][0]                  \n",
      "__________________________________________________________________________________________________\n",
      "conv2d_transpose_4 (Conv2DTrans (None, 256, 256, 64) 32832       conv2d_16[0][0]                  \n",
      "__________________________________________________________________________________________________\n",
      "concatenate_4 (Concatenate)     (None, 256, 256, 128 0           conv2d_transpose_4[0][0]         \n",
      "                                                                 conv2d_2[0][0]                   \n",
      "__________________________________________________________________________________________________\n",
      "conv2d_17 (Conv2D)              (None, 256, 256, 64) 73792       concatenate_4[0][0]              \n",
      "__________________________________________________________________________________________________\n",
      "conv2d_18 (Conv2D)              (None, 256, 256, 64) 36928       conv2d_17[0][0]                  \n",
      "__________________________________________________________________________________________________\n",
      "conv2d_19 (Conv2D)              (None, 256, 256, 2)  1154        conv2d_18[0][0]                  \n",
      "__________________________________________________________________________________________________\n",
      "conv2d_20 (Conv2D)              (None, 256, 256, 1)  3           conv2d_19[0][0]                  \n",
      "==================================================================================================\n",
      "Total params: 31,033,413\n",
      "Trainable params: 31,033,413\n",
      "Non-trainable params: 0\n",
      "__________________________________________________________________________________________________\n"
     ]
    }
   ],
   "source": [
    "model.summary()"
   ]
  },
  {
   "cell_type": "code",
   "execution_count": null,
   "metadata": {},
   "outputs": [],
   "source": [
    "#class ImageData():\n",
    "    \n",
    "    #def __init__(self, image_dir, label_dir):\n",
    "        #self.image = []\n",
    "        #self.label = []\n",
    "        #for file in os.listdir(image_dir):\n",
    "            #if file.endswith(\".tif\"):\n",
    "                #self.image.append(io.imread(os.path.join(image_dir, file)))\n",
    "        #for file in os.listdir(label_dir):\n",
    "        #    if file.endswith(\".tif\"):\n",
    "        #        self.label.append(io.imread(os.path.join(label_dir, file)))\n",
    "    \n",
    "    #def getAllImages(self):\n",
    "        #return np.array(self.image)\n",
    "    \n",
    "    #def getAllLabels(self):\n",
    "        #return np.array(self.label)"
   ]
  },
  {
   "cell_type": "code",
   "execution_count": 9,
   "metadata": {},
   "outputs": [],
   "source": [
    "def getImageryInRange(range_of_ids):\n",
    "    images = []\n",
    "    for val in range(range_of_ids[0], range_of_ids[1]):\n",
    "        path = \"/home/paperspace/ciaran/data/train_normalised/blue_anchor_\" + str(val) + \".tif\"\n",
    "        images.append(io.imread(path))\n",
    "    return np.array(images)\n",
    "def getLabelsInRange(range_of_ids):\n",
    "    labels = []\n",
    "    for val in range(range_of_ids[0], range_of_ids[1]):\n",
    "        path = \"/home/paperspace/ciaran/data/label/blue_anchor_\" + str(val) + \".tif\"\n",
    "        labels.append(io.imread(path))\n",
    "    return np.array(labels)"
   ]
  },
  {
   "cell_type": "code",
   "execution_count": 10,
   "metadata": {},
   "outputs": [],
   "source": [
    "training_images = getImageryInRange((3000, 6000))\n",
    "training_labels = getLabelsInRange((3000, 6000))"
   ]
  },
  {
   "cell_type": "code",
   "execution_count": null,
   "metadata": {},
   "outputs": [],
   "source": [
    "#images = ImageData(\"/home/paperspace/ciaran/data/train_normalised/\",\n",
    "#                   \"/home/paperspace/ciaran/data/label/\")\n",
    "#all_images = images.getAllImages()\n",
    "#training_images = all_images[((40 * len(all_images))//100):((60 * len(all_images))//100)]\n",
    "#all_labels = images.getAllLabels()\n",
    "#training_labels = all_labels[((40 * len(all_labels))//100):((60 * len(all_labels))//100)]"
   ]
  },
  {
   "cell_type": "code",
   "execution_count": 11,
   "metadata": {},
   "outputs": [],
   "source": [
    "import h5py\n",
    "import re\n",
    "from importlib import reload\n",
    "from keras.callbacks import EarlyStopping, TensorBoard\n",
    "from keras.models import load_model\n",
    "from keras.models import save_model"
   ]
  },
  {
   "cell_type": "code",
   "execution_count": 12,
   "metadata": {},
   "outputs": [
    {
     "name": "stdout",
     "output_type": "stream",
     "text": [
      "Train on 2400 samples, validate on 600 samples\n",
      "Epoch 1/200\n",
      "2400/2400 [==============================] - 138s 57ms/step - loss: 0.5579 - sorensen_dice_coef: 0.4421 - val_loss: 0.5251 - val_sorensen_dice_coef: 0.4749\n",
      "Epoch 2/200\n",
      "2400/2400 [==============================] - 129s 54ms/step - loss: 0.5588 - sorensen_dice_coef: 0.4412 - val_loss: 0.5251 - val_sorensen_dice_coef: 0.4749\n",
      "Epoch 3/200\n",
      "2400/2400 [==============================] - 129s 54ms/step - loss: 0.5575 - sorensen_dice_coef: 0.4425 - val_loss: 0.5251 - val_sorensen_dice_coef: 0.4749\n",
      "Epoch 4/200\n",
      "2400/2400 [==============================] - 130s 54ms/step - loss: 0.5611 - sorensen_dice_coef: 0.4389 - val_loss: 0.5251 - val_sorensen_dice_coef: 0.4749\n",
      "Epoch 5/200\n",
      "2400/2400 [==============================] - 130s 54ms/step - loss: 0.5573 - sorensen_dice_coef: 0.4427 - val_loss: 0.5251 - val_sorensen_dice_coef: 0.4749\n",
      "Epoch 6/200\n",
      "2400/2400 [==============================] - 130s 54ms/step - loss: 0.5579 - sorensen_dice_coef: 0.4421 - val_loss: 0.5251 - val_sorensen_dice_coef: 0.4749\n",
      "Epoch 7/200\n",
      "2400/2400 [==============================] - 130s 54ms/step - loss: 0.5589 - sorensen_dice_coef: 0.4411 - val_loss: 0.5251 - val_sorensen_dice_coef: 0.4749\n",
      "Epoch 8/200\n",
      "2400/2400 [==============================] - 130s 54ms/step - loss: 0.5588 - sorensen_dice_coef: 0.4412 - val_loss: 0.5251 - val_sorensen_dice_coef: 0.4749\n",
      "Epoch 9/200\n",
      "2400/2400 [==============================] - 129s 54ms/step - loss: 0.5601 - sorensen_dice_coef: 0.4399 - val_loss: 0.5251 - val_sorensen_dice_coef: 0.4749\n",
      "Epoch 10/200\n",
      "2400/2400 [==============================] - 129s 54ms/step - loss: 0.5599 - sorensen_dice_coef: 0.4401 - val_loss: 0.5251 - val_sorensen_dice_coef: 0.4749\n",
      "Epoch 11/200\n",
      "2400/2400 [==============================] - 129s 54ms/step - loss: 0.5605 - sorensen_dice_coef: 0.4395 - val_loss: 0.5251 - val_sorensen_dice_coef: 0.4749\n",
      "Epoch 12/200\n",
      "2400/2400 [==============================] - 129s 54ms/step - loss: 0.5578 - sorensen_dice_coef: 0.4422 - val_loss: 0.5251 - val_sorensen_dice_coef: 0.4749\n",
      "Epoch 13/200\n",
      "2400/2400 [==============================] - 128s 53ms/step - loss: 0.5607 - sorensen_dice_coef: 0.4393 - val_loss: 0.5251 - val_sorensen_dice_coef: 0.4749\n",
      "Epoch 14/200\n",
      "2400/2400 [==============================] - 128s 53ms/step - loss: 0.5620 - sorensen_dice_coef: 0.4380 - val_loss: 0.5251 - val_sorensen_dice_coef: 0.4749\n",
      "Epoch 15/200\n",
      "2400/2400 [==============================] - 128s 53ms/step - loss: 0.5573 - sorensen_dice_coef: 0.4427 - val_loss: 0.5251 - val_sorensen_dice_coef: 0.4749\n",
      "Epoch 16/200\n",
      "1024/2400 [===========>..................] - ETA: 1:07 - loss: 0.5491 - sorensen_dice_coef: 0.4509"
     ]
    },
    {
     "ename": "KeyboardInterrupt",
     "evalue": "",
     "output_type": "error",
     "traceback": [
      "\u001b[0;31m---------------------------------------------------------------------------\u001b[0m",
      "\u001b[0;31mKeyboardInterrupt\u001b[0m                         Traceback (most recent call last)",
      "\u001b[0;32m<ipython-input-12-d7d8d944dc44>\u001b[0m in \u001b[0;36m<module>\u001b[0;34m\u001b[0m\n\u001b[1;32m      1\u001b[0m \u001b[0mt_board\u001b[0m \u001b[0;34m=\u001b[0m \u001b[0mTensorBoard\u001b[0m\u001b[0;34m(\u001b[0m\u001b[0mlog_dir\u001b[0m\u001b[0;34m=\u001b[0m\u001b[0;34m\"./models/lr-1e-3_p-30_e-200_bs-16/logs\"\u001b[0m\u001b[0;34m,\u001b[0m \u001b[0mhistogram_freq\u001b[0m\u001b[0;34m=\u001b[0m\u001b[0;36m0\u001b[0m\u001b[0;34m,\u001b[0m \u001b[0mwrite_grads\u001b[0m\u001b[0;34m=\u001b[0m\u001b[0;32mFalse\u001b[0m\u001b[0;34m,\u001b[0m \u001b[0mwrite_graph\u001b[0m\u001b[0;34m=\u001b[0m\u001b[0;32mTrue\u001b[0m\u001b[0;34m,\u001b[0m \u001b[0mwrite_images\u001b[0m\u001b[0;34m=\u001b[0m\u001b[0;32mFalse\u001b[0m\u001b[0;34m)\u001b[0m\u001b[0;34m\u001b[0m\u001b[0m\n\u001b[1;32m      2\u001b[0m \u001b[0mstop_early\u001b[0m \u001b[0;34m=\u001b[0m \u001b[0mEarlyStopping\u001b[0m\u001b[0;34m(\u001b[0m\u001b[0mpatience\u001b[0m\u001b[0;34m=\u001b[0m\u001b[0;36m30\u001b[0m\u001b[0;34m)\u001b[0m\u001b[0;34m\u001b[0m\u001b[0m\n\u001b[0;32m----> 3\u001b[0;31m \u001b[0mmodel\u001b[0m\u001b[0;34m.\u001b[0m\u001b[0mfit\u001b[0m\u001b[0;34m(\u001b[0m\u001b[0mtraining_images\u001b[0m\u001b[0;34m,\u001b[0m \u001b[0mtraining_labels\u001b[0m\u001b[0;34m,\u001b[0m \u001b[0mvalidation_split\u001b[0m\u001b[0;34m=\u001b[0m\u001b[0;36m0.2\u001b[0m\u001b[0;34m,\u001b[0m \u001b[0mepochs\u001b[0m\u001b[0;34m=\u001b[0m\u001b[0;36m200\u001b[0m\u001b[0;34m,\u001b[0m \u001b[0mbatch_size\u001b[0m\u001b[0;34m=\u001b[0m\u001b[0;36m16\u001b[0m\u001b[0;34m,\u001b[0m \u001b[0mshuffle\u001b[0m\u001b[0;34m=\u001b[0m\u001b[0;32mTrue\u001b[0m\u001b[0;34m,\u001b[0m \u001b[0mcallbacks\u001b[0m\u001b[0;34m=\u001b[0m\u001b[0;34m[\u001b[0m\u001b[0mstop_early\u001b[0m\u001b[0;34m,\u001b[0m \u001b[0mt_board\u001b[0m\u001b[0;34m]\u001b[0m\u001b[0;34m)\u001b[0m\u001b[0;34m\u001b[0m\u001b[0m\n\u001b[0m\u001b[1;32m      4\u001b[0m \u001b[0mmodel\u001b[0m\u001b[0;34m.\u001b[0m\u001b[0msave\u001b[0m\u001b[0;34m(\u001b[0m\u001b[0;34m\"./models/lr-1e-3_p-30_e-200_bs-16/model\"\u001b[0m\u001b[0;34m)\u001b[0m\u001b[0;34m\u001b[0m\u001b[0m\n",
      "\u001b[0;32m~/ciaran/dsa_beach_comp/venv/lib/python3.6/site-packages/keras/engine/training.py\u001b[0m in \u001b[0;36mfit\u001b[0;34m(self, x, y, batch_size, epochs, verbose, callbacks, validation_split, validation_data, shuffle, class_weight, sample_weight, initial_epoch, steps_per_epoch, validation_steps, **kwargs)\u001b[0m\n\u001b[1;32m   1037\u001b[0m                                         \u001b[0minitial_epoch\u001b[0m\u001b[0;34m=\u001b[0m\u001b[0minitial_epoch\u001b[0m\u001b[0;34m,\u001b[0m\u001b[0;34m\u001b[0m\u001b[0m\n\u001b[1;32m   1038\u001b[0m                                         \u001b[0msteps_per_epoch\u001b[0m\u001b[0;34m=\u001b[0m\u001b[0msteps_per_epoch\u001b[0m\u001b[0;34m,\u001b[0m\u001b[0;34m\u001b[0m\u001b[0m\n\u001b[0;32m-> 1039\u001b[0;31m                                         validation_steps=validation_steps)\n\u001b[0m\u001b[1;32m   1040\u001b[0m \u001b[0;34m\u001b[0m\u001b[0m\n\u001b[1;32m   1041\u001b[0m     def evaluate(self, x=None, y=None,\n",
      "\u001b[0;32m~/ciaran/dsa_beach_comp/venv/lib/python3.6/site-packages/keras/engine/training_arrays.py\u001b[0m in \u001b[0;36mfit_loop\u001b[0;34m(model, f, ins, out_labels, batch_size, epochs, verbose, callbacks, val_f, val_ins, shuffle, callback_metrics, initial_epoch, steps_per_epoch, validation_steps)\u001b[0m\n\u001b[1;32m    197\u001b[0m                     \u001b[0mins_batch\u001b[0m\u001b[0;34m[\u001b[0m\u001b[0mi\u001b[0m\u001b[0;34m]\u001b[0m \u001b[0;34m=\u001b[0m \u001b[0mins_batch\u001b[0m\u001b[0;34m[\u001b[0m\u001b[0mi\u001b[0m\u001b[0;34m]\u001b[0m\u001b[0;34m.\u001b[0m\u001b[0mtoarray\u001b[0m\u001b[0;34m(\u001b[0m\u001b[0;34m)\u001b[0m\u001b[0;34m\u001b[0m\u001b[0m\n\u001b[1;32m    198\u001b[0m \u001b[0;34m\u001b[0m\u001b[0m\n\u001b[0;32m--> 199\u001b[0;31m                 \u001b[0mouts\u001b[0m \u001b[0;34m=\u001b[0m \u001b[0mf\u001b[0m\u001b[0;34m(\u001b[0m\u001b[0mins_batch\u001b[0m\u001b[0;34m)\u001b[0m\u001b[0;34m\u001b[0m\u001b[0m\n\u001b[0m\u001b[1;32m    200\u001b[0m                 \u001b[0mouts\u001b[0m \u001b[0;34m=\u001b[0m \u001b[0mto_list\u001b[0m\u001b[0;34m(\u001b[0m\u001b[0mouts\u001b[0m\u001b[0;34m)\u001b[0m\u001b[0;34m\u001b[0m\u001b[0m\n\u001b[1;32m    201\u001b[0m                 \u001b[0;32mfor\u001b[0m \u001b[0ml\u001b[0m\u001b[0;34m,\u001b[0m \u001b[0mo\u001b[0m \u001b[0;32min\u001b[0m \u001b[0mzip\u001b[0m\u001b[0;34m(\u001b[0m\u001b[0mout_labels\u001b[0m\u001b[0;34m,\u001b[0m \u001b[0mouts\u001b[0m\u001b[0;34m)\u001b[0m\u001b[0;34m:\u001b[0m\u001b[0;34m\u001b[0m\u001b[0m\n",
      "\u001b[0;32m~/ciaran/dsa_beach_comp/venv/lib/python3.6/site-packages/keras/backend/tensorflow_backend.py\u001b[0m in \u001b[0;36m__call__\u001b[0;34m(self, inputs)\u001b[0m\n\u001b[1;32m   2713\u001b[0m                 \u001b[0;32mreturn\u001b[0m \u001b[0mself\u001b[0m\u001b[0;34m.\u001b[0m\u001b[0m_legacy_call\u001b[0m\u001b[0;34m(\u001b[0m\u001b[0minputs\u001b[0m\u001b[0;34m)\u001b[0m\u001b[0;34m\u001b[0m\u001b[0m\n\u001b[1;32m   2714\u001b[0m \u001b[0;34m\u001b[0m\u001b[0m\n\u001b[0;32m-> 2715\u001b[0;31m             \u001b[0;32mreturn\u001b[0m \u001b[0mself\u001b[0m\u001b[0;34m.\u001b[0m\u001b[0m_call\u001b[0m\u001b[0;34m(\u001b[0m\u001b[0minputs\u001b[0m\u001b[0;34m)\u001b[0m\u001b[0;34m\u001b[0m\u001b[0m\n\u001b[0m\u001b[1;32m   2716\u001b[0m         \u001b[0;32melse\u001b[0m\u001b[0;34m:\u001b[0m\u001b[0;34m\u001b[0m\u001b[0m\n\u001b[1;32m   2717\u001b[0m             \u001b[0;32mif\u001b[0m \u001b[0mpy_any\u001b[0m\u001b[0;34m(\u001b[0m\u001b[0mis_tensor\u001b[0m\u001b[0;34m(\u001b[0m\u001b[0mx\u001b[0m\u001b[0;34m)\u001b[0m \u001b[0;32mfor\u001b[0m \u001b[0mx\u001b[0m \u001b[0;32min\u001b[0m \u001b[0minputs\u001b[0m\u001b[0;34m)\u001b[0m\u001b[0;34m:\u001b[0m\u001b[0;34m\u001b[0m\u001b[0m\n",
      "\u001b[0;32m~/ciaran/dsa_beach_comp/venv/lib/python3.6/site-packages/keras/backend/tensorflow_backend.py\u001b[0m in \u001b[0;36m_call\u001b[0;34m(self, inputs)\u001b[0m\n\u001b[1;32m   2673\u001b[0m             \u001b[0mfetched\u001b[0m \u001b[0;34m=\u001b[0m \u001b[0mself\u001b[0m\u001b[0;34m.\u001b[0m\u001b[0m_callable_fn\u001b[0m\u001b[0;34m(\u001b[0m\u001b[0;34m*\u001b[0m\u001b[0marray_vals\u001b[0m\u001b[0;34m,\u001b[0m \u001b[0mrun_metadata\u001b[0m\u001b[0;34m=\u001b[0m\u001b[0mself\u001b[0m\u001b[0;34m.\u001b[0m\u001b[0mrun_metadata\u001b[0m\u001b[0;34m)\u001b[0m\u001b[0;34m\u001b[0m\u001b[0m\n\u001b[1;32m   2674\u001b[0m         \u001b[0;32melse\u001b[0m\u001b[0;34m:\u001b[0m\u001b[0;34m\u001b[0m\u001b[0m\n\u001b[0;32m-> 2675\u001b[0;31m             \u001b[0mfetched\u001b[0m \u001b[0;34m=\u001b[0m \u001b[0mself\u001b[0m\u001b[0;34m.\u001b[0m\u001b[0m_callable_fn\u001b[0m\u001b[0;34m(\u001b[0m\u001b[0;34m*\u001b[0m\u001b[0marray_vals\u001b[0m\u001b[0;34m)\u001b[0m\u001b[0;34m\u001b[0m\u001b[0m\n\u001b[0m\u001b[1;32m   2676\u001b[0m         \u001b[0;32mreturn\u001b[0m \u001b[0mfetched\u001b[0m\u001b[0;34m[\u001b[0m\u001b[0;34m:\u001b[0m\u001b[0mlen\u001b[0m\u001b[0;34m(\u001b[0m\u001b[0mself\u001b[0m\u001b[0;34m.\u001b[0m\u001b[0moutputs\u001b[0m\u001b[0;34m)\u001b[0m\u001b[0;34m]\u001b[0m\u001b[0;34m\u001b[0m\u001b[0m\n\u001b[1;32m   2677\u001b[0m \u001b[0;34m\u001b[0m\u001b[0m\n",
      "\u001b[0;32m~/ciaran/dsa_beach_comp/venv/lib/python3.6/site-packages/tensorflow/python/client/session.py\u001b[0m in \u001b[0;36m__call__\u001b[0;34m(self, *args)\u001b[0m\n\u001b[1;32m   1449\u001b[0m         \u001b[0;32mif\u001b[0m \u001b[0mself\u001b[0m\u001b[0;34m.\u001b[0m\u001b[0m_session\u001b[0m\u001b[0;34m.\u001b[0m\u001b[0m_created_with_new_api\u001b[0m\u001b[0;34m:\u001b[0m\u001b[0;34m\u001b[0m\u001b[0m\n\u001b[1;32m   1450\u001b[0m           return tf_session.TF_SessionRunCallable(\n\u001b[0;32m-> 1451\u001b[0;31m               self._session._session, self._handle, args, status, None)\n\u001b[0m\u001b[1;32m   1452\u001b[0m         \u001b[0;32melse\u001b[0m\u001b[0;34m:\u001b[0m\u001b[0;34m\u001b[0m\u001b[0m\n\u001b[1;32m   1453\u001b[0m           return tf_session.TF_DeprecatedSessionRunCallable(\n",
      "\u001b[0;31mKeyboardInterrupt\u001b[0m: "
     ]
    }
   ],
   "source": [
    "t_board = TensorBoard(log_dir=\"./models/lr-1e-3_p-30_e-200_bs-16/logs\", histogram_freq=0, write_grads=False, write_graph=True, write_images=False)\n",
    "stop_early = EarlyStopping(patience=30)\n",
    "model.fit(training_images, training_labels, validation_split=0.2, epochs=200, batch_size=16, shuffle=True, callbacks=[stop_early, t_board])\n",
    "model.save(\"./models/lr-1e-3_p-30_e-200_bs-16/model\")"
   ]
  }
 ],
 "metadata": {
  "kernelspec": {
   "display_name": "Python 3",
   "language": "python",
   "name": "python3"
  },
  "language_info": {
   "codemirror_mode": {
    "name": "ipython",
    "version": 3
   },
   "file_extension": ".py",
   "mimetype": "text/x-python",
   "name": "python",
   "nbconvert_exporter": "python",
   "pygments_lexer": "ipython3",
   "version": "3.6.3"
  }
 },
 "nbformat": 4,
 "nbformat_minor": 2
}
